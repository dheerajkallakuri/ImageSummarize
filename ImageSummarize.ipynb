{
  "nbformat": 4,
  "nbformat_minor": 0,
  "metadata": {
    "colab": {
      "provenance": [],
      "gpuType": "T4",
      "toc_visible": true
    },
    "kernelspec": {
      "name": "python3",
      "display_name": "Python 3"
    },
    "language_info": {
      "name": "python"
    },
    "accelerator": "GPU"
  },
  "cells": [
    {
      "cell_type": "code",
      "execution_count": null,
      "metadata": {
        "id": "rQrdIg7iv0mL",
        "collapsed": true
      },
      "outputs": [],
      "source": [
        "!pip install kaggle"
      ]
    },
    {
      "cell_type": "code",
      "source": [
        "from google.colab import files\n",
        "files.upload()  # Upload kaggle.json"
      ],
      "metadata": {
        "id": "aLjZTHj2YdBt"
      },
      "execution_count": null,
      "outputs": []
    },
    {
      "cell_type": "code",
      "source": [
        "!mkdir -p ~/.kaggle\n",
        "!cp kaggle.json ~/.kaggle/\n",
        "!chmod 600 ~/.kaggle/kaggle.json"
      ],
      "metadata": {
        "id": "-5LAAZxyYhUr"
      },
      "execution_count": null,
      "outputs": []
    },
    {
      "cell_type": "code",
      "source": [
        "!kaggle datasets download -d adityajn105/flickr30k"
      ],
      "metadata": {
        "id": "gSGwYV0vYowe"
      },
      "execution_count": null,
      "outputs": []
    },
    {
      "cell_type": "code",
      "source": [
        "!unzip /content/flickr30k.zip"
      ],
      "metadata": {
        "id": "oZaUj4RxZ37-"
      },
      "execution_count": null,
      "outputs": []
    },
    {
      "cell_type": "code",
      "source": [
        "!python /content/vocab.py"
      ],
      "metadata": {
        "id": "lMwL_Zyeaa68"
      },
      "execution_count": null,
      "outputs": []
    },
    {
      "cell_type": "code",
      "source": [
        "!python train.py --model lstm"
      ],
      "metadata": {
        "id": "vQFbw-V2cEUR"
      },
      "execution_count": null,
      "outputs": []
    },
    {
      "cell_type": "code",
      "source": [
        "!python train.py --model gpt1"
      ],
      "metadata": {
        "id": "EXG4-5CPDzSW"
      },
      "execution_count": null,
      "outputs": []
    },
    {
      "cell_type": "code",
      "source": [
        "!python show_instance.py --model 'lstm' --image_file '65567.jpg'"
      ],
      "metadata": {
        "id": "4fpNAIAhEHXh"
      },
      "execution_count": null,
      "outputs": []
    },
    {
      "cell_type": "code",
      "source": [
        "!python show_instance.py --model 'gpt1' --image_file '65567.jpg'"
      ],
      "metadata": {
        "id": "xvqAjz6YEKio"
      },
      "execution_count": null,
      "outputs": []
    }
  ]
}
